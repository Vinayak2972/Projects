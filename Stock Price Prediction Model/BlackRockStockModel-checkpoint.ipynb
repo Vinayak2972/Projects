{
 "cells": [
  {
   "cell_type": "code",
   "execution_count": 1,
   "id": "a4aac332",
   "metadata": {},
   "outputs": [],
   "source": [
    "import os\n",
    "import numpy as np\n",
    "import pandas as pd\n",
    "import matplotlib.pyplot as plt\n",
    "%matplotlib inline"
   ]
  },
  {
   "cell_type": "code",
   "execution_count": 2,
   "id": "f0e00bfb",
   "metadata": {},
   "outputs": [
    {
     "data": {
      "text/html": [
       "<div>\n",
       "<style scoped>\n",
       "    .dataframe tbody tr th:only-of-type {\n",
       "        vertical-align: middle;\n",
       "    }\n",
       "\n",
       "    .dataframe tbody tr th {\n",
       "        vertical-align: top;\n",
       "    }\n",
       "\n",
       "    .dataframe thead th {\n",
       "        text-align: right;\n",
       "    }\n",
       "</style>\n",
       "<table border=\"1\" class=\"dataframe\">\n",
       "  <thead>\n",
       "    <tr style=\"text-align: right;\">\n",
       "      <th></th>\n",
       "      <th>Date</th>\n",
       "      <th>Open</th>\n",
       "      <th>High</th>\n",
       "      <th>Low</th>\n",
       "      <th>Close</th>\n",
       "      <th>Adj Close</th>\n",
       "      <th>Volume</th>\n",
       "    </tr>\n",
       "  </thead>\n",
       "  <tbody>\n",
       "    <tr>\n",
       "      <th>0</th>\n",
       "      <td>2023-01-03</td>\n",
       "      <td>720.000000</td>\n",
       "      <td>723.539978</td>\n",
       "      <td>703.770020</td>\n",
       "      <td>712.039978</td>\n",
       "      <td>692.085815</td>\n",
       "      <td>540800</td>\n",
       "    </tr>\n",
       "    <tr>\n",
       "      <th>1</th>\n",
       "      <td>2023-01-04</td>\n",
       "      <td>719.650024</td>\n",
       "      <td>727.479980</td>\n",
       "      <td>713.400024</td>\n",
       "      <td>721.900024</td>\n",
       "      <td>701.669434</td>\n",
       "      <td>710200</td>\n",
       "    </tr>\n",
       "    <tr>\n",
       "      <th>2</th>\n",
       "      <td>2023-01-05</td>\n",
       "      <td>713.030029</td>\n",
       "      <td>717.169983</td>\n",
       "      <td>701.210022</td>\n",
       "      <td>701.239990</td>\n",
       "      <td>681.588440</td>\n",
       "      <td>686700</td>\n",
       "    </tr>\n",
       "    <tr>\n",
       "      <th>3</th>\n",
       "      <td>2023-01-06</td>\n",
       "      <td>713.419983</td>\n",
       "      <td>738.559998</td>\n",
       "      <td>710.469971</td>\n",
       "      <td>738.000000</td>\n",
       "      <td>717.318237</td>\n",
       "      <td>1215700</td>\n",
       "    </tr>\n",
       "    <tr>\n",
       "      <th>4</th>\n",
       "      <td>2023-01-09</td>\n",
       "      <td>742.210022</td>\n",
       "      <td>762.809998</td>\n",
       "      <td>741.750000</td>\n",
       "      <td>752.989990</td>\n",
       "      <td>731.888123</td>\n",
       "      <td>1102800</td>\n",
       "    </tr>\n",
       "  </tbody>\n",
       "</table>\n",
       "</div>"
      ],
      "text/plain": [
       "         Date        Open        High         Low       Close   Adj Close  \\\n",
       "0  2023-01-03  720.000000  723.539978  703.770020  712.039978  692.085815   \n",
       "1  2023-01-04  719.650024  727.479980  713.400024  721.900024  701.669434   \n",
       "2  2023-01-05  713.030029  717.169983  701.210022  701.239990  681.588440   \n",
       "3  2023-01-06  713.419983  738.559998  710.469971  738.000000  717.318237   \n",
       "4  2023-01-09  742.210022  762.809998  741.750000  752.989990  731.888123   \n",
       "\n",
       "    Volume  \n",
       "0   540800  \n",
       "1   710200  \n",
       "2   686700  \n",
       "3  1215700  \n",
       "4  1102800  "
      ]
     },
     "execution_count": 2,
     "metadata": {},
     "output_type": "execute_result"
    }
   ],
   "source": [
    "dataset_train=pd.read_csv(\"Blackrock.csv\")\n",
    "dataset_train.head()"
   ]
  },
  {
   "cell_type": "code",
   "execution_count": 3,
   "id": "d7099072",
   "metadata": {},
   "outputs": [
    {
     "name": "stdout",
     "output_type": "stream",
     "text": [
      "shape is =(251, 1)\n",
      "[[720.      ]\n",
      " [719.650024]\n",
      " [713.030029]\n",
      " [713.419983]\n",
      " [742.210022]]\n"
     ]
    }
   ],
   "source": [
    "training_set = dataset_train.iloc[:,1:2].values\n",
    "print('shape is ={}'.format(training_set.shape))\n",
    "print(training_set[0:5])"
   ]
  },
  {
   "cell_type": "code",
   "execution_count": null,
   "id": "441cfb54",
   "metadata": {},
   "outputs": [],
   "source": []
  }
 ],
 "metadata": {
  "kernelspec": {
   "display_name": "Python 3 (ipykernel)",
   "language": "python",
   "name": "python3"
  },
  "language_info": {
   "codemirror_mode": {
    "name": "ipython",
    "version": 3
   },
   "file_extension": ".py",
   "mimetype": "text/x-python",
   "name": "python",
   "nbconvert_exporter": "python",
   "pygments_lexer": "ipython3",
   "version": "3.10.9"
  }
 },
 "nbformat": 4,
 "nbformat_minor": 5
}
